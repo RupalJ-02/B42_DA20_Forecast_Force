{
  "cells": [
    {
      "cell_type": "code",
      "execution_count": null,
      "id": "7d8524ff-ac10-4553-8b9e-d5d32e5754fe",
      "metadata": {
        "id": "7d8524ff-ac10-4553-8b9e-d5d32e5754fe"
      },
      "outputs": [],
      "source": [
        "import pandas as pd\n",
        "import numpy as np\n",
        "import seaborn as sns\n",
        "import matplotlib.pyplot as plt\n",
        "import io"
      ]
    },
    {
      "cell_type": "code",
      "source": [
        "from google.colab import files\n",
        "uploaded = files.upload()"
      ],
      "metadata": {
        "id": "siFXveT2DJXH",
        "colab": {
          "base_uri": "https://localhost:8080/",
          "height": 36
        },
        "outputId": "60ca9323-04a1-4aa6-c5bc-31557e7ba9e5"
      },
      "id": "siFXveT2DJXH",
      "execution_count": 1,
      "outputs": [
        {
          "output_type": "display_data",
          "data": {
            "text/plain": [
              "<IPython.core.display.HTML object>"
            ],
            "text/html": [
              "\n",
              "     <input type=\"file\" id=\"files-03ed87ec-67b1-4a5e-818c-63b47b6a9097\" name=\"files[]\" multiple disabled\n",
              "        style=\"border:none\" />\n",
              "     <output id=\"result-03ed87ec-67b1-4a5e-818c-63b47b6a9097\">\n",
              "      Upload widget is only available when the cell has been executed in the\n",
              "      current browser session. Please rerun this cell to enable.\n",
              "      </output>\n",
              "      <script>// Copyright 2017 Google LLC\n",
              "//\n",
              "// Licensed under the Apache License, Version 2.0 (the \"License\");\n",
              "// you may not use this file except in compliance with the License.\n",
              "// You may obtain a copy of the License at\n",
              "//\n",
              "//      http://www.apache.org/licenses/LICENSE-2.0\n",
              "//\n",
              "// Unless required by applicable law or agreed to in writing, software\n",
              "// distributed under the License is distributed on an \"AS IS\" BASIS,\n",
              "// WITHOUT WARRANTIES OR CONDITIONS OF ANY KIND, either express or implied.\n",
              "// See the License for the specific language governing permissions and\n",
              "// limitations under the License.\n",
              "\n",
              "/**\n",
              " * @fileoverview Helpers for google.colab Python module.\n",
              " */\n",
              "(function(scope) {\n",
              "function span(text, styleAttributes = {}) {\n",
              "  const element = document.createElement('span');\n",
              "  element.textContent = text;\n",
              "  for (const key of Object.keys(styleAttributes)) {\n",
              "    element.style[key] = styleAttributes[key];\n",
              "  }\n",
              "  return element;\n",
              "}\n",
              "\n",
              "// Max number of bytes which will be uploaded at a time.\n",
              "const MAX_PAYLOAD_SIZE = 100 * 1024;\n",
              "\n",
              "function _uploadFiles(inputId, outputId) {\n",
              "  const steps = uploadFilesStep(inputId, outputId);\n",
              "  const outputElement = document.getElementById(outputId);\n",
              "  // Cache steps on the outputElement to make it available for the next call\n",
              "  // to uploadFilesContinue from Python.\n",
              "  outputElement.steps = steps;\n",
              "\n",
              "  return _uploadFilesContinue(outputId);\n",
              "}\n",
              "\n",
              "// This is roughly an async generator (not supported in the browser yet),\n",
              "// where there are multiple asynchronous steps and the Python side is going\n",
              "// to poll for completion of each step.\n",
              "// This uses a Promise to block the python side on completion of each step,\n",
              "// then passes the result of the previous step as the input to the next step.\n",
              "function _uploadFilesContinue(outputId) {\n",
              "  const outputElement = document.getElementById(outputId);\n",
              "  const steps = outputElement.steps;\n",
              "\n",
              "  const next = steps.next(outputElement.lastPromiseValue);\n",
              "  return Promise.resolve(next.value.promise).then((value) => {\n",
              "    // Cache the last promise value to make it available to the next\n",
              "    // step of the generator.\n",
              "    outputElement.lastPromiseValue = value;\n",
              "    return next.value.response;\n",
              "  });\n",
              "}\n",
              "\n",
              "/**\n",
              " * Generator function which is called between each async step of the upload\n",
              " * process.\n",
              " * @param {string} inputId Element ID of the input file picker element.\n",
              " * @param {string} outputId Element ID of the output display.\n",
              " * @return {!Iterable<!Object>} Iterable of next steps.\n",
              " */\n",
              "function* uploadFilesStep(inputId, outputId) {\n",
              "  const inputElement = document.getElementById(inputId);\n",
              "  inputElement.disabled = false;\n",
              "\n",
              "  const outputElement = document.getElementById(outputId);\n",
              "  outputElement.innerHTML = '';\n",
              "\n",
              "  const pickedPromise = new Promise((resolve) => {\n",
              "    inputElement.addEventListener('change', (e) => {\n",
              "      resolve(e.target.files);\n",
              "    });\n",
              "  });\n",
              "\n",
              "  const cancel = document.createElement('button');\n",
              "  inputElement.parentElement.appendChild(cancel);\n",
              "  cancel.textContent = 'Cancel upload';\n",
              "  const cancelPromise = new Promise((resolve) => {\n",
              "    cancel.onclick = () => {\n",
              "      resolve(null);\n",
              "    };\n",
              "  });\n",
              "\n",
              "  // Wait for the user to pick the files.\n",
              "  const files = yield {\n",
              "    promise: Promise.race([pickedPromise, cancelPromise]),\n",
              "    response: {\n",
              "      action: 'starting',\n",
              "    }\n",
              "  };\n",
              "\n",
              "  cancel.remove();\n",
              "\n",
              "  // Disable the input element since further picks are not allowed.\n",
              "  inputElement.disabled = true;\n",
              "\n",
              "  if (!files) {\n",
              "    return {\n",
              "      response: {\n",
              "        action: 'complete',\n",
              "      }\n",
              "    };\n",
              "  }\n",
              "\n",
              "  for (const file of files) {\n",
              "    const li = document.createElement('li');\n",
              "    li.append(span(file.name, {fontWeight: 'bold'}));\n",
              "    li.append(span(\n",
              "        `(${file.type || 'n/a'}) - ${file.size} bytes, ` +\n",
              "        `last modified: ${\n",
              "            file.lastModifiedDate ? file.lastModifiedDate.toLocaleDateString() :\n",
              "                                    'n/a'} - `));\n",
              "    const percent = span('0% done');\n",
              "    li.appendChild(percent);\n",
              "\n",
              "    outputElement.appendChild(li);\n",
              "\n",
              "    const fileDataPromise = new Promise((resolve) => {\n",
              "      const reader = new FileReader();\n",
              "      reader.onload = (e) => {\n",
              "        resolve(e.target.result);\n",
              "      };\n",
              "      reader.readAsArrayBuffer(file);\n",
              "    });\n",
              "    // Wait for the data to be ready.\n",
              "    let fileData = yield {\n",
              "      promise: fileDataPromise,\n",
              "      response: {\n",
              "        action: 'continue',\n",
              "      }\n",
              "    };\n",
              "\n",
              "    // Use a chunked sending to avoid message size limits. See b/62115660.\n",
              "    let position = 0;\n",
              "    do {\n",
              "      const length = Math.min(fileData.byteLength - position, MAX_PAYLOAD_SIZE);\n",
              "      const chunk = new Uint8Array(fileData, position, length);\n",
              "      position += length;\n",
              "\n",
              "      const base64 = btoa(String.fromCharCode.apply(null, chunk));\n",
              "      yield {\n",
              "        response: {\n",
              "          action: 'append',\n",
              "          file: file.name,\n",
              "          data: base64,\n",
              "        },\n",
              "      };\n",
              "\n",
              "      let percentDone = fileData.byteLength === 0 ?\n",
              "          100 :\n",
              "          Math.round((position / fileData.byteLength) * 100);\n",
              "      percent.textContent = `${percentDone}% done`;\n",
              "\n",
              "    } while (position < fileData.byteLength);\n",
              "  }\n",
              "\n",
              "  // All done.\n",
              "  yield {\n",
              "    response: {\n",
              "      action: 'complete',\n",
              "    }\n",
              "  };\n",
              "}\n",
              "\n",
              "scope.google = scope.google || {};\n",
              "scope.google.colab = scope.google.colab || {};\n",
              "scope.google.colab._files = {\n",
              "  _uploadFiles,\n",
              "  _uploadFilesContinue,\n",
              "};\n",
              "})(self);\n",
              "</script> "
            ]
          },
          "metadata": {}
        }
      ]
    },
    {
      "cell_type": "code",
      "execution_count": null,
      "id": "9b053599-ad14-4d18-88ff-b9f3c2cef68b",
      "metadata": {
        "id": "9b053599-ad14-4d18-88ff-b9f3c2cef68b"
      },
      "outputs": [],
      "source": [
        "df = pd.read_csv(\"Githubindiadb.csv\")"
      ]
    },
    {
      "cell_type": "code",
      "execution_count": null,
      "id": "07644d6b-f52f-4db8-bb59-4f2b97094ec7",
      "metadata": {
        "id": "07644d6b-f52f-4db8-bb59-4f2b97094ec7",
        "outputId": "480db3d5-eede-49bc-b0bb-369b401a16db"
      },
      "outputs": [
        {
          "name": "stdout",
          "output_type": "stream",
          "text": [
            "<class 'pandas.core.frame.DataFrame'>\n",
            "RangeIndex: 10164 entries, 0 to 10163\n",
            "Data columns (total 22 columns):\n",
            " #   Column                   Non-Null Count  Dtype  \n",
            "---  ------                   --------------  -----  \n",
            " 0   Unnamed: 0               10164 non-null  int64  \n",
            " 1   username                 10164 non-null  object \n",
            " 2   gender_pronoun           3146 non-null   object \n",
            " 3   followings               7176 non-null   object \n",
            " 4   joining_year             10070 non-null  float64\n",
            " 5   last_year_contributions  10070 non-null  float64\n",
            " 6   achievements_num         10164 non-null  int64  \n",
            " 7   stars                    10077 non-null  object \n",
            " 8   has_readme               10164 non-null  bool   \n",
            " 9   social_link              3860 non-null   object \n",
            " 10  social_platform          4493 non-null   object \n",
            " 11  works_for                3517 non-null   object \n",
            " 12  status                   4258 non-null   object \n",
            " 13  name                     10163 non-null  object \n",
            " 14  location                 10164 non-null  object \n",
            " 15  repositories             10164 non-null  object \n",
            " 16  followers                10164 non-null  object \n",
            " 17  language                 10164 non-null  object \n",
            " 18  sorting type             10164 non-null  object \n",
            " 19  description              10160 non-null  object \n",
            " 20  City                     10164 non-null  object \n",
            " 21  Region                   10164 non-null  object \n",
            "dtypes: bool(1), float64(2), int64(2), object(17)\n",
            "memory usage: 1.6+ MB\n"
          ]
        }
      ],
      "source": [
        "df.info()"
      ]
    },
    {
      "cell_type": "code",
      "execution_count": null,
      "id": "040a64e5-9eb9-453d-91fa-b943f50ae4f0",
      "metadata": {
        "id": "040a64e5-9eb9-453d-91fa-b943f50ae4f0",
        "outputId": "3956e71f-a538-4946-a5d1-766ccc4940d8"
      },
      "outputs": [
        {
          "data": {
            "text/plain": [
              "Unnamed: 0                    0\n",
              "username                      0\n",
              "gender_pronoun             7018\n",
              "followings                 2988\n",
              "joining_year                 94\n",
              "last_year_contributions      94\n",
              "achievements_num              0\n",
              "stars                        87\n",
              "has_readme                    0\n",
              "social_link                6304\n",
              "social_platform            5671\n",
              "works_for                  6647\n",
              "status                     5906\n",
              "name                          1\n",
              "location                      0\n",
              "repositories                  0\n",
              "followers                     0\n",
              "language                      0\n",
              "sorting type                  0\n",
              "description                   4\n",
              "City                          0\n",
              "Region                        0\n",
              "dtype: int64"
            ]
          },
          "execution_count": 52,
          "metadata": {},
          "output_type": "execute_result"
        }
      ],
      "source": [
        "df.isnull().sum()"
      ]
    },
    {
      "cell_type": "code",
      "execution_count": null,
      "id": "e1142012-de66-406a-9601-3f883f8b940b",
      "metadata": {
        "id": "e1142012-de66-406a-9601-3f883f8b940b",
        "outputId": "c99fb08e-d9fb-4fc0-89a5-51a0b1f6bc56"
      },
      "outputs": [
        {
          "data": {
            "text/html": [
              "<div>\n",
              "<style scoped>\n",
              "    .dataframe tbody tr th:only-of-type {\n",
              "        vertical-align: middle;\n",
              "    }\n",
              "\n",
              "    .dataframe tbody tr th {\n",
              "        vertical-align: top;\n",
              "    }\n",
              "\n",
              "    .dataframe thead th {\n",
              "        text-align: right;\n",
              "    }\n",
              "</style>\n",
              "<table border=\"1\" class=\"dataframe\">\n",
              "  <thead>\n",
              "    <tr style=\"text-align: right;\">\n",
              "      <th></th>\n",
              "      <th>Unnamed: 0</th>\n",
              "      <th>joining_year</th>\n",
              "      <th>last_year_contributions</th>\n",
              "      <th>achievements_num</th>\n",
              "    </tr>\n",
              "  </thead>\n",
              "  <tbody>\n",
              "    <tr>\n",
              "      <th>count</th>\n",
              "      <td>10164.000000</td>\n",
              "      <td>10070.000000</td>\n",
              "      <td>10070.000000</td>\n",
              "      <td>10164.000000</td>\n",
              "    </tr>\n",
              "    <tr>\n",
              "      <th>mean</th>\n",
              "      <td>5081.500000</td>\n",
              "      <td>2019.346475</td>\n",
              "      <td>93.656802</td>\n",
              "      <td>1.108914</td>\n",
              "    </tr>\n",
              "    <tr>\n",
              "      <th>std</th>\n",
              "      <td>2934.238402</td>\n",
              "      <td>3.174348</td>\n",
              "      <td>296.274967</td>\n",
              "      <td>1.735043</td>\n",
              "    </tr>\n",
              "    <tr>\n",
              "      <th>min</th>\n",
              "      <td>0.000000</td>\n",
              "      <td>1969.000000</td>\n",
              "      <td>0.000000</td>\n",
              "      <td>0.000000</td>\n",
              "    </tr>\n",
              "    <tr>\n",
              "      <th>25%</th>\n",
              "      <td>2540.750000</td>\n",
              "      <td>2017.000000</td>\n",
              "      <td>0.000000</td>\n",
              "      <td>0.000000</td>\n",
              "    </tr>\n",
              "    <tr>\n",
              "      <th>50%</th>\n",
              "      <td>5081.500000</td>\n",
              "      <td>2020.000000</td>\n",
              "      <td>6.000000</td>\n",
              "      <td>0.000000</td>\n",
              "    </tr>\n",
              "    <tr>\n",
              "      <th>75%</th>\n",
              "      <td>7622.250000</td>\n",
              "      <td>2022.000000</td>\n",
              "      <td>55.000000</td>\n",
              "      <td>2.000000</td>\n",
              "    </tr>\n",
              "    <tr>\n",
              "      <th>max</th>\n",
              "      <td>10163.000000</td>\n",
              "      <td>2024.000000</td>\n",
              "      <td>8291.000000</td>\n",
              "      <td>15.000000</td>\n",
              "    </tr>\n",
              "  </tbody>\n",
              "</table>\n",
              "</div>"
            ],
            "text/plain": [
              "         Unnamed: 0  joining_year  last_year_contributions  achievements_num\n",
              "count  10164.000000  10070.000000             10070.000000      10164.000000\n",
              "mean    5081.500000   2019.346475                93.656802          1.108914\n",
              "std     2934.238402      3.174348               296.274967          1.735043\n",
              "min        0.000000   1969.000000                 0.000000          0.000000\n",
              "25%     2540.750000   2017.000000                 0.000000          0.000000\n",
              "50%     5081.500000   2020.000000                 6.000000          0.000000\n",
              "75%     7622.250000   2022.000000                55.000000          2.000000\n",
              "max    10163.000000   2024.000000              8291.000000         15.000000"
            ]
          },
          "execution_count": 53,
          "metadata": {},
          "output_type": "execute_result"
        }
      ],
      "source": [
        "df.describe()"
      ]
    },
    {
      "cell_type": "code",
      "execution_count": null,
      "id": "46309e47-c90f-437d-824a-467eee4c412d",
      "metadata": {
        "id": "46309e47-c90f-437d-824a-467eee4c412d",
        "outputId": "805088dd-da37-4a0d-d4fb-3e7fd9688349"
      },
      "outputs": [
        {
          "data": {
            "text/plain": [
              "Unnamed: 0                    0\n",
              "username                      0\n",
              "gender_pronoun             7018\n",
              "followings                 2988\n",
              "joining_year                 94\n",
              "last_year_contributions      94\n",
              "achievements_num              0\n",
              "stars                        87\n",
              "has_readme                    0\n",
              "social_link                6304\n",
              "social_platform            5671\n",
              "works_for                  6647\n",
              "status                     5906\n",
              "name                          1\n",
              "location                      0\n",
              "repositories                  0\n",
              "followers                     0\n",
              "language                      0\n",
              "sorting type                  0\n",
              "description                   4\n",
              "City                          0\n",
              "Region                        0\n",
              "dtype: int64"
            ]
          },
          "execution_count": 54,
          "metadata": {},
          "output_type": "execute_result"
        }
      ],
      "source": [
        "df.isnull().sum()"
      ]
    },
    {
      "cell_type": "code",
      "execution_count": null,
      "id": "54978723-e2b8-435e-90f6-e630d36ceecd",
      "metadata": {
        "id": "54978723-e2b8-435e-90f6-e630d36ceecd"
      },
      "outputs": [],
      "source": [
        "df = df.drop('gender_pronoun', axis=1)"
      ]
    },
    {
      "cell_type": "code",
      "execution_count": null,
      "id": "2e4d882b-a858-4d89-9693-4868b4d1cea6",
      "metadata": {
        "id": "2e4d882b-a858-4d89-9693-4868b4d1cea6"
      },
      "outputs": [],
      "source": [
        "df = df.dropna(subset=['joining_year'])"
      ]
    },
    {
      "cell_type": "code",
      "execution_count": null,
      "id": "dff601e5-0989-4f9b-a0f1-ea2a57e992e6",
      "metadata": {
        "id": "dff601e5-0989-4f9b-a0f1-ea2a57e992e6"
      },
      "outputs": [],
      "source": [
        "df = df.drop('social_link', axis=1)"
      ]
    },
    {
      "cell_type": "code",
      "execution_count": null,
      "id": "629cce9f-e75f-45fe-a86c-1d0929e55d64",
      "metadata": {
        "id": "629cce9f-e75f-45fe-a86c-1d0929e55d64",
        "outputId": "9c2d0445-678d-46fc-efec-bff4ac6537aa"
      },
      "outputs": [
        {
          "data": {
            "text/plain": [
              "0                                                 NaN\n",
              "1                                       X@infysumanta\n",
              "2                                                 NaN\n",
              "3                   LinkedInin/anirban-bose-4a238b245\n",
              "4                                                 NaN\n",
              "                             ...                     \n",
              "10159    LinkedInin/ezhilarasan-vezhavendan-b1886024a\n",
              "10160                             LinkedInin/iammohib\n",
              "10161                                             NaN\n",
              "10162                                   X@theRohitDas\n",
              "10163         YouTubechannel/UC0v2uwomcsXVnGyM3GcuO9g\n",
              "Name: social_platform, Length: 10070, dtype: object"
            ]
          },
          "execution_count": 58,
          "metadata": {},
          "output_type": "execute_result"
        }
      ],
      "source": [
        "df['social_platform']"
      ]
    },
    {
      "cell_type": "code",
      "execution_count": null,
      "id": "e4d32c0d-fb15-4ad3-b157-2540211718be",
      "metadata": {
        "id": "e4d32c0d-fb15-4ad3-b157-2540211718be"
      },
      "outputs": [],
      "source": [
        "\n",
        "df = df.drop('social_platform', axis=1)"
      ]
    },
    {
      "cell_type": "code",
      "execution_count": null,
      "id": "4a19ac0a-5337-4c40-8c3b-062a42077012",
      "metadata": {
        "id": "4a19ac0a-5337-4c40-8c3b-062a42077012",
        "outputId": "e951a725-4392-4914-9d53-86e188ea17ac"
      },
      "outputs": [
        {
          "data": {
            "text/plain": [
              "0                                                  NaN\n",
              "1                                                  NaN\n",
              "2                                             Synkrama\n",
              "3        Institute of Technical Education and Research\n",
              "4                                                  NaN\n",
              "                             ...                      \n",
              "10159                                              NaN\n",
              "10160                                              NaN\n",
              "10161                 Fynd (Shopsense retails Pvt Ltd)\n",
              "10162                                   @booleanbridge\n",
              "10163                                              NaN\n",
              "Name: works_for, Length: 10070, dtype: object"
            ]
          },
          "execution_count": 60,
          "metadata": {},
          "output_type": "execute_result"
        }
      ],
      "source": [
        "df['works_for']"
      ]
    },
    {
      "cell_type": "code",
      "execution_count": null,
      "id": "58632a5a-f1f4-4b6b-8681-6e9095d500e2",
      "metadata": {
        "id": "58632a5a-f1f4-4b6b-8681-6e9095d500e2"
      },
      "outputs": [],
      "source": [
        "df = df.drop('works_for', axis=1)"
      ]
    },
    {
      "cell_type": "code",
      "execution_count": null,
      "id": "030f506e-145e-4124-b947-0e4bd1d82b1f",
      "metadata": {
        "id": "030f506e-145e-4124-b947-0e4bd1d82b1f",
        "outputId": "4d618aac-2573-42d4-bf64-789373ed354d"
      },
      "outputs": [
        {
          "data": {
            "text/plain": [
              "0                                    NaN\n",
              "1                               Focusing\n",
              "2                                    NaN\n",
              "3                                    NaN\n",
              "4                                    NaN\n",
              "                      ...               \n",
              "10159                                NaN\n",
              "10160                                NaN\n",
              "10161                 in a full time job\n",
              "10162    intermediate dev, plagued by ai\n",
              "10163                                NaN\n",
              "Name: status, Length: 10070, dtype: object"
            ]
          },
          "execution_count": 62,
          "metadata": {},
          "output_type": "execute_result"
        }
      ],
      "source": [
        "df['status']"
      ]
    },
    {
      "cell_type": "code",
      "execution_count": null,
      "id": "4f4cd356-9dfe-46e9-b9e7-1fb59d96a71d",
      "metadata": {
        "id": "4f4cd356-9dfe-46e9-b9e7-1fb59d96a71d",
        "outputId": "c998c4b4-eb79-431a-cf65-08dbbbc900b6"
      },
      "outputs": [
        {
          "name": "stdout",
          "output_type": "stream",
          "text": [
            "1317\n"
          ]
        }
      ],
      "source": [
        "unique_values = df['status'].nunique()\n",
        "print(unique_values)"
      ]
    },
    {
      "cell_type": "code",
      "execution_count": null,
      "id": "225a000b-5a18-4c88-a6e9-aa1cbcb2bfb2",
      "metadata": {
        "id": "225a000b-5a18-4c88-a6e9-aa1cbcb2bfb2",
        "outputId": "68d60915-f8b9-4d67-d532-1ff4a1811984"
      },
      "outputs": [
        {
          "data": {
            "text/html": [
              "<div>\n",
              "<style scoped>\n",
              "    .dataframe tbody tr th:only-of-type {\n",
              "        vertical-align: middle;\n",
              "    }\n",
              "\n",
              "    .dataframe tbody tr th {\n",
              "        vertical-align: top;\n",
              "    }\n",
              "\n",
              "    .dataframe thead th {\n",
              "        text-align: right;\n",
              "    }\n",
              "</style>\n",
              "<table border=\"1\" class=\"dataframe\">\n",
              "  <thead>\n",
              "    <tr style=\"text-align: right;\">\n",
              "      <th></th>\n",
              "      <th>Unnamed: 0</th>\n",
              "      <th>username</th>\n",
              "      <th>followings</th>\n",
              "      <th>joining_year</th>\n",
              "      <th>last_year_contributions</th>\n",
              "      <th>achievements_num</th>\n",
              "      <th>stars</th>\n",
              "      <th>has_readme</th>\n",
              "      <th>status</th>\n",
              "      <th>name</th>\n",
              "      <th>location</th>\n",
              "      <th>repositories</th>\n",
              "      <th>followers</th>\n",
              "      <th>language</th>\n",
              "      <th>sorting type</th>\n",
              "      <th>description</th>\n",
              "      <th>City</th>\n",
              "      <th>Region</th>\n",
              "    </tr>\n",
              "  </thead>\n",
              "  <tbody>\n",
              "    <tr>\n",
              "      <th>0</th>\n",
              "      <td>0</td>\n",
              "      <td>SumithSPrince</td>\n",
              "      <td>1</td>\n",
              "      <td>2021.0</td>\n",
              "      <td>2.0</td>\n",
              "      <td>0</td>\n",
              "      <td>0</td>\n",
              "      <td>False</td>\n",
              "      <td>NaN</td>\n",
              "      <td>Sumith S</td>\n",
              "      <td>Bangalore, India</td>\n",
              "      <td>1</td>\n",
              "      <td>0</td>\n",
              "      <td>Java</td>\n",
              "      <td>Most recently joined</td>\n",
              "      <td>Hello 👋\\n\\nGreat you visited my profile!\\n\\nI'...</td>\n",
              "      <td>Rourkela</td>\n",
              "      <td>East</td>\n",
              "    </tr>\n",
              "    <tr>\n",
              "      <th>1</th>\n",
              "      <td>1</td>\n",
              "      <td>infysumanta</td>\n",
              "      <td>38</td>\n",
              "      <td>2018.0</td>\n",
              "      <td>623.0</td>\n",
              "      <td>5</td>\n",
              "      <td>87</td>\n",
              "      <td>True</td>\n",
              "      <td>Focusing</td>\n",
              "      <td>Sumanta Kabiraj</td>\n",
              "      <td>Kolkata, India</td>\n",
              "      <td>445</td>\n",
              "      <td>9</td>\n",
              "      <td>Java</td>\n",
              "      <td>Most repositories</td>\n",
              "      <td>Sculpting the digital frontier with a mastery ...</td>\n",
              "      <td>Kollam</td>\n",
              "      <td>South</td>\n",
              "    </tr>\n",
              "    <tr>\n",
              "      <th>2</th>\n",
              "      <td>2</td>\n",
              "      <td>codingwithkrish</td>\n",
              "      <td>8</td>\n",
              "      <td>2021.0</td>\n",
              "      <td>204.0</td>\n",
              "      <td>6</td>\n",
              "      <td>9</td>\n",
              "      <td>True</td>\n",
              "      <td>NaN</td>\n",
              "      <td>Krish Gupta</td>\n",
              "      <td>India</td>\n",
              "      <td>37</td>\n",
              "      <td>6</td>\n",
              "      <td>Java</td>\n",
              "      <td>Most followers</td>\n",
              "      <td>I am a B.Tech Professional students from Vishw...</td>\n",
              "      <td>Siliguri</td>\n",
              "      <td>North</td>\n",
              "    </tr>\n",
              "    <tr>\n",
              "      <th>3</th>\n",
              "      <td>3</td>\n",
              "      <td>anirbanbose401</td>\n",
              "      <td>3</td>\n",
              "      <td>2023.0</td>\n",
              "      <td>2.0</td>\n",
              "      <td>0</td>\n",
              "      <td>0</td>\n",
              "      <td>False</td>\n",
              "      <td>NaN</td>\n",
              "      <td>ANIRBAN BOSE</td>\n",
              "      <td>India</td>\n",
              "      <td>3</td>\n",
              "      <td>0</td>\n",
              "      <td>Java</td>\n",
              "      <td>Most recently joined</td>\n",
              "      <td>I've always been interested in programming. So...</td>\n",
              "      <td>Guntur</td>\n",
              "      <td>South</td>\n",
              "    </tr>\n",
              "    <tr>\n",
              "      <th>4</th>\n",
              "      <td>4</td>\n",
              "      <td>neilrehani101</td>\n",
              "      <td>3</td>\n",
              "      <td>2021.0</td>\n",
              "      <td>6.0</td>\n",
              "      <td>0</td>\n",
              "      <td>0</td>\n",
              "      <td>False</td>\n",
              "      <td>NaN</td>\n",
              "      <td>Neil Rehani</td>\n",
              "      <td>India</td>\n",
              "      <td>29</td>\n",
              "      <td>0</td>\n",
              "      <td>Python</td>\n",
              "      <td>Fewest followers</td>\n",
              "      <td>I am a keen learner and want to explore nearly...</td>\n",
              "      <td>Guntur</td>\n",
              "      <td>East</td>\n",
              "    </tr>\n",
              "  </tbody>\n",
              "</table>\n",
              "</div>"
            ],
            "text/plain": [
              "   Unnamed: 0         username followings  joining_year  \\\n",
              "0           0    SumithSPrince          1        2021.0   \n",
              "1           1      infysumanta         38        2018.0   \n",
              "2           2  codingwithkrish          8        2021.0   \n",
              "3           3   anirbanbose401          3        2023.0   \n",
              "4           4    neilrehani101          3        2021.0   \n",
              "\n",
              "   last_year_contributions  achievements_num stars  has_readme    status  \\\n",
              "0                      2.0                 0     0       False       NaN   \n",
              "1                    623.0                 5    87        True  Focusing   \n",
              "2                    204.0                 6     9        True       NaN   \n",
              "3                      2.0                 0     0       False       NaN   \n",
              "4                      6.0                 0     0       False       NaN   \n",
              "\n",
              "              name          location repositories followers language  \\\n",
              "0         Sumith S  Bangalore, India            1         0     Java   \n",
              "1  Sumanta Kabiraj    Kolkata, India          445         9     Java   \n",
              "2      Krish Gupta             India           37         6     Java   \n",
              "3     ANIRBAN BOSE             India            3         0     Java   \n",
              "4      Neil Rehani             India           29         0   Python   \n",
              "\n",
              "           sorting type                                        description  \\\n",
              "0  Most recently joined  Hello 👋\\n\\nGreat you visited my profile!\\n\\nI'...   \n",
              "1     Most repositories  Sculpting the digital frontier with a mastery ...   \n",
              "2        Most followers  I am a B.Tech Professional students from Vishw...   \n",
              "3  Most recently joined  I've always been interested in programming. So...   \n",
              "4      Fewest followers  I am a keen learner and want to explore nearly...   \n",
              "\n",
              "       City Region  \n",
              "0  Rourkela   East  \n",
              "1    Kollam  South  \n",
              "2  Siliguri  North  \n",
              "3    Guntur  South  \n",
              "4    Guntur   East  "
            ]
          },
          "execution_count": 64,
          "metadata": {},
          "output_type": "execute_result"
        }
      ],
      "source": [
        "df.head(5)"
      ]
    },
    {
      "cell_type": "code",
      "execution_count": null,
      "id": "a4070e5e-84a4-40c1-a1b1-9fd2334b86d3",
      "metadata": {
        "id": "a4070e5e-84a4-40c1-a1b1-9fd2334b86d3"
      },
      "outputs": [],
      "source": [
        "df = df.drop('description', axis=1)"
      ]
    },
    {
      "cell_type": "code",
      "execution_count": null,
      "id": "3e4cb386-b278-4fbd-bde7-828179e07bfd",
      "metadata": {
        "id": "3e4cb386-b278-4fbd-bde7-828179e07bfd",
        "outputId": "c799e24c-4342-4f77-e344-a15f166ef2e3"
      },
      "outputs": [
        {
          "data": {
            "text/html": [
              "<div>\n",
              "<style scoped>\n",
              "    .dataframe tbody tr th:only-of-type {\n",
              "        vertical-align: middle;\n",
              "    }\n",
              "\n",
              "    .dataframe tbody tr th {\n",
              "        vertical-align: top;\n",
              "    }\n",
              "\n",
              "    .dataframe thead th {\n",
              "        text-align: right;\n",
              "    }\n",
              "</style>\n",
              "<table border=\"1\" class=\"dataframe\">\n",
              "  <thead>\n",
              "    <tr style=\"text-align: right;\">\n",
              "      <th></th>\n",
              "      <th>Unnamed: 0</th>\n",
              "      <th>username</th>\n",
              "      <th>followings</th>\n",
              "      <th>joining_year</th>\n",
              "      <th>last_year_contributions</th>\n",
              "      <th>achievements_num</th>\n",
              "      <th>stars</th>\n",
              "      <th>has_readme</th>\n",
              "      <th>status</th>\n",
              "      <th>name</th>\n",
              "      <th>location</th>\n",
              "      <th>repositories</th>\n",
              "      <th>followers</th>\n",
              "      <th>language</th>\n",
              "      <th>sorting type</th>\n",
              "      <th>City</th>\n",
              "      <th>Region</th>\n",
              "    </tr>\n",
              "  </thead>\n",
              "  <tbody>\n",
              "    <tr>\n",
              "      <th>0</th>\n",
              "      <td>0</td>\n",
              "      <td>SumithSPrince</td>\n",
              "      <td>1</td>\n",
              "      <td>2021.0</td>\n",
              "      <td>2.0</td>\n",
              "      <td>0</td>\n",
              "      <td>0</td>\n",
              "      <td>False</td>\n",
              "      <td>NaN</td>\n",
              "      <td>Sumith S</td>\n",
              "      <td>Bangalore, India</td>\n",
              "      <td>1</td>\n",
              "      <td>0</td>\n",
              "      <td>Java</td>\n",
              "      <td>Most recently joined</td>\n",
              "      <td>Rourkela</td>\n",
              "      <td>East</td>\n",
              "    </tr>\n",
              "    <tr>\n",
              "      <th>1</th>\n",
              "      <td>1</td>\n",
              "      <td>infysumanta</td>\n",
              "      <td>38</td>\n",
              "      <td>2018.0</td>\n",
              "      <td>623.0</td>\n",
              "      <td>5</td>\n",
              "      <td>87</td>\n",
              "      <td>True</td>\n",
              "      <td>Focusing</td>\n",
              "      <td>Sumanta Kabiraj</td>\n",
              "      <td>Kolkata, India</td>\n",
              "      <td>445</td>\n",
              "      <td>9</td>\n",
              "      <td>Java</td>\n",
              "      <td>Most repositories</td>\n",
              "      <td>Kollam</td>\n",
              "      <td>South</td>\n",
              "    </tr>\n",
              "    <tr>\n",
              "      <th>2</th>\n",
              "      <td>2</td>\n",
              "      <td>codingwithkrish</td>\n",
              "      <td>8</td>\n",
              "      <td>2021.0</td>\n",
              "      <td>204.0</td>\n",
              "      <td>6</td>\n",
              "      <td>9</td>\n",
              "      <td>True</td>\n",
              "      <td>NaN</td>\n",
              "      <td>Krish Gupta</td>\n",
              "      <td>India</td>\n",
              "      <td>37</td>\n",
              "      <td>6</td>\n",
              "      <td>Java</td>\n",
              "      <td>Most followers</td>\n",
              "      <td>Siliguri</td>\n",
              "      <td>North</td>\n",
              "    </tr>\n",
              "    <tr>\n",
              "      <th>3</th>\n",
              "      <td>3</td>\n",
              "      <td>anirbanbose401</td>\n",
              "      <td>3</td>\n",
              "      <td>2023.0</td>\n",
              "      <td>2.0</td>\n",
              "      <td>0</td>\n",
              "      <td>0</td>\n",
              "      <td>False</td>\n",
              "      <td>NaN</td>\n",
              "      <td>ANIRBAN BOSE</td>\n",
              "      <td>India</td>\n",
              "      <td>3</td>\n",
              "      <td>0</td>\n",
              "      <td>Java</td>\n",
              "      <td>Most recently joined</td>\n",
              "      <td>Guntur</td>\n",
              "      <td>South</td>\n",
              "    </tr>\n",
              "    <tr>\n",
              "      <th>4</th>\n",
              "      <td>4</td>\n",
              "      <td>neilrehani101</td>\n",
              "      <td>3</td>\n",
              "      <td>2021.0</td>\n",
              "      <td>6.0</td>\n",
              "      <td>0</td>\n",
              "      <td>0</td>\n",
              "      <td>False</td>\n",
              "      <td>NaN</td>\n",
              "      <td>Neil Rehani</td>\n",
              "      <td>India</td>\n",
              "      <td>29</td>\n",
              "      <td>0</td>\n",
              "      <td>Python</td>\n",
              "      <td>Fewest followers</td>\n",
              "      <td>Guntur</td>\n",
              "      <td>East</td>\n",
              "    </tr>\n",
              "  </tbody>\n",
              "</table>\n",
              "</div>"
            ],
            "text/plain": [
              "   Unnamed: 0         username followings  joining_year  \\\n",
              "0           0    SumithSPrince          1        2021.0   \n",
              "1           1      infysumanta         38        2018.0   \n",
              "2           2  codingwithkrish          8        2021.0   \n",
              "3           3   anirbanbose401          3        2023.0   \n",
              "4           4    neilrehani101          3        2021.0   \n",
              "\n",
              "   last_year_contributions  achievements_num stars  has_readme    status  \\\n",
              "0                      2.0                 0     0       False       NaN   \n",
              "1                    623.0                 5    87        True  Focusing   \n",
              "2                    204.0                 6     9        True       NaN   \n",
              "3                      2.0                 0     0       False       NaN   \n",
              "4                      6.0                 0     0       False       NaN   \n",
              "\n",
              "              name          location repositories followers language  \\\n",
              "0         Sumith S  Bangalore, India            1         0     Java   \n",
              "1  Sumanta Kabiraj    Kolkata, India          445         9     Java   \n",
              "2      Krish Gupta             India           37         6     Java   \n",
              "3     ANIRBAN BOSE             India            3         0     Java   \n",
              "4      Neil Rehani             India           29         0   Python   \n",
              "\n",
              "           sorting type      City Region  \n",
              "0  Most recently joined  Rourkela   East  \n",
              "1     Most repositories    Kollam  South  \n",
              "2        Most followers  Siliguri  North  \n",
              "3  Most recently joined    Guntur  South  \n",
              "4      Fewest followers    Guntur   East  "
            ]
          },
          "execution_count": 66,
          "metadata": {},
          "output_type": "execute_result"
        }
      ],
      "source": [
        "df.head(5)"
      ]
    },
    {
      "cell_type": "code",
      "execution_count": null,
      "id": "313aade3-b5e8-493e-a5ff-04c6d3abe2fa",
      "metadata": {
        "id": "313aade3-b5e8-493e-a5ff-04c6d3abe2fa",
        "outputId": "e38c6c94-39c1-4d12-edfc-8f95c2fa1962"
      },
      "outputs": [
        {
          "data": {
            "text/plain": [
              "2092"
            ]
          },
          "execution_count": 67,
          "metadata": {},
          "output_type": "execute_result"
        }
      ],
      "source": [
        "df['location'].nunique()"
      ]
    },
    {
      "cell_type": "code",
      "execution_count": null,
      "id": "f523fed0-34e8-4a43-a355-013a411a8773",
      "metadata": {
        "id": "f523fed0-34e8-4a43-a355-013a411a8773"
      },
      "outputs": [],
      "source": [
        "df = df.dropna(subset=['name'])"
      ]
    },
    {
      "cell_type": "code",
      "execution_count": null,
      "id": "d125ed32-c49f-4fd5-91f3-b59eec9f5a06",
      "metadata": {
        "id": "d125ed32-c49f-4fd5-91f3-b59eec9f5a06",
        "outputId": "958e9464-06cb-47ed-ed61-25cfb6c039c3"
      },
      "outputs": [
        {
          "data": {
            "text/plain": [
              "Unnamed: 0                    0\n",
              "username                      0\n",
              "followings                 2897\n",
              "joining_year                  0\n",
              "last_year_contributions       0\n",
              "achievements_num              0\n",
              "stars                         0\n",
              "has_readme                    0\n",
              "status                     5849\n",
              "name                          0\n",
              "location                      0\n",
              "repositories                  0\n",
              "followers                     0\n",
              "language                      0\n",
              "sorting type                  0\n",
              "City                          0\n",
              "Region                        0\n",
              "dtype: int64"
            ]
          },
          "execution_count": 69,
          "metadata": {},
          "output_type": "execute_result"
        }
      ],
      "source": [
        "df.isnull().sum()"
      ]
    },
    {
      "cell_type": "code",
      "execution_count": null,
      "id": "c36e0d4b-cf66-4944-8f47-cf6b1ba89847",
      "metadata": {
        "id": "c36e0d4b-cf66-4944-8f47-cf6b1ba89847",
        "outputId": "529ab7c8-e354-44cb-8696-55838c3ab82f"
      },
      "outputs": [
        {
          "data": {
            "text/plain": [
              "Unnamed: 0                    0\n",
              "username                      0\n",
              "followings                 2897\n",
              "joining_year                  0\n",
              "last_year_contributions       0\n",
              "achievements_num              0\n",
              "stars                         0\n",
              "has_readme                    0\n",
              "status                     5849\n",
              "name                          0\n",
              "location                      0\n",
              "repositories                  0\n",
              "followers                     0\n",
              "language                      0\n",
              "sorting type                  0\n",
              "City                          0\n",
              "Region                        0\n",
              "dtype: int64"
            ]
          },
          "execution_count": 71,
          "metadata": {},
          "output_type": "execute_result"
        }
      ],
      "source": [
        "df.isnull().sum()"
      ]
    },
    {
      "cell_type": "code",
      "execution_count": null,
      "id": "d09dbe66-e514-412f-9ab9-62c8eab7c942",
      "metadata": {
        "id": "d09dbe66-e514-412f-9ab9-62c8eab7c942"
      },
      "outputs": [],
      "source": [
        "df.rename(columns={'Unnamed: 0': 'index'}, inplace=True)"
      ]
    },
    {
      "cell_type": "code",
      "execution_count": null,
      "id": "7510ab89-863d-44a0-9589-7599181f85d5",
      "metadata": {
        "id": "7510ab89-863d-44a0-9589-7599181f85d5",
        "outputId": "bd2d9f5d-31a6-4ca1-f4dc-1455791adae1"
      },
      "outputs": [
        {
          "data": {
            "text/html": [
              "<div>\n",
              "<style scoped>\n",
              "    .dataframe tbody tr th:only-of-type {\n",
              "        vertical-align: middle;\n",
              "    }\n",
              "\n",
              "    .dataframe tbody tr th {\n",
              "        vertical-align: top;\n",
              "    }\n",
              "\n",
              "    .dataframe thead th {\n",
              "        text-align: right;\n",
              "    }\n",
              "</style>\n",
              "<table border=\"1\" class=\"dataframe\">\n",
              "  <thead>\n",
              "    <tr style=\"text-align: right;\">\n",
              "      <th></th>\n",
              "      <th>index</th>\n",
              "      <th>username</th>\n",
              "      <th>followings</th>\n",
              "      <th>joining_year</th>\n",
              "      <th>last_year_contributions</th>\n",
              "      <th>achievements_num</th>\n",
              "      <th>stars</th>\n",
              "      <th>has_readme</th>\n",
              "      <th>status</th>\n",
              "      <th>name</th>\n",
              "      <th>location</th>\n",
              "      <th>repositories</th>\n",
              "      <th>followers</th>\n",
              "      <th>language</th>\n",
              "      <th>sorting type</th>\n",
              "      <th>City</th>\n",
              "      <th>Region</th>\n",
              "    </tr>\n",
              "  </thead>\n",
              "  <tbody>\n",
              "    <tr>\n",
              "      <th>0</th>\n",
              "      <td>0</td>\n",
              "      <td>SumithSPrince</td>\n",
              "      <td>1</td>\n",
              "      <td>2021.0</td>\n",
              "      <td>2.0</td>\n",
              "      <td>0</td>\n",
              "      <td>0.0</td>\n",
              "      <td>False</td>\n",
              "      <td>NaN</td>\n",
              "      <td>Sumith S</td>\n",
              "      <td>Bangalore, India</td>\n",
              "      <td>1.0</td>\n",
              "      <td>0.0</td>\n",
              "      <td>Java</td>\n",
              "      <td>Most recently joined</td>\n",
              "      <td>Rourkela</td>\n",
              "      <td>East</td>\n",
              "    </tr>\n",
              "    <tr>\n",
              "      <th>1</th>\n",
              "      <td>1</td>\n",
              "      <td>infysumanta</td>\n",
              "      <td>38</td>\n",
              "      <td>2018.0</td>\n",
              "      <td>623.0</td>\n",
              "      <td>5</td>\n",
              "      <td>87.0</td>\n",
              "      <td>True</td>\n",
              "      <td>Focusing</td>\n",
              "      <td>Sumanta Kabiraj</td>\n",
              "      <td>Kolkata, India</td>\n",
              "      <td>445.0</td>\n",
              "      <td>9.0</td>\n",
              "      <td>Java</td>\n",
              "      <td>Most repositories</td>\n",
              "      <td>Kollam</td>\n",
              "      <td>South</td>\n",
              "    </tr>\n",
              "    <tr>\n",
              "      <th>2</th>\n",
              "      <td>2</td>\n",
              "      <td>codingwithkrish</td>\n",
              "      <td>8</td>\n",
              "      <td>2021.0</td>\n",
              "      <td>204.0</td>\n",
              "      <td>6</td>\n",
              "      <td>9.0</td>\n",
              "      <td>True</td>\n",
              "      <td>NaN</td>\n",
              "      <td>Krish Gupta</td>\n",
              "      <td>India</td>\n",
              "      <td>37.0</td>\n",
              "      <td>6.0</td>\n",
              "      <td>Java</td>\n",
              "      <td>Most followers</td>\n",
              "      <td>Siliguri</td>\n",
              "      <td>North</td>\n",
              "    </tr>\n",
              "    <tr>\n",
              "      <th>3</th>\n",
              "      <td>3</td>\n",
              "      <td>anirbanbose401</td>\n",
              "      <td>3</td>\n",
              "      <td>2023.0</td>\n",
              "      <td>2.0</td>\n",
              "      <td>0</td>\n",
              "      <td>0.0</td>\n",
              "      <td>False</td>\n",
              "      <td>NaN</td>\n",
              "      <td>ANIRBAN BOSE</td>\n",
              "      <td>India</td>\n",
              "      <td>3.0</td>\n",
              "      <td>0.0</td>\n",
              "      <td>Java</td>\n",
              "      <td>Most recently joined</td>\n",
              "      <td>Guntur</td>\n",
              "      <td>South</td>\n",
              "    </tr>\n",
              "    <tr>\n",
              "      <th>4</th>\n",
              "      <td>4</td>\n",
              "      <td>neilrehani101</td>\n",
              "      <td>3</td>\n",
              "      <td>2021.0</td>\n",
              "      <td>6.0</td>\n",
              "      <td>0</td>\n",
              "      <td>0.0</td>\n",
              "      <td>False</td>\n",
              "      <td>NaN</td>\n",
              "      <td>Neil Rehani</td>\n",
              "      <td>India</td>\n",
              "      <td>29.0</td>\n",
              "      <td>0.0</td>\n",
              "      <td>Python</td>\n",
              "      <td>Fewest followers</td>\n",
              "      <td>Guntur</td>\n",
              "      <td>East</td>\n",
              "    </tr>\n",
              "  </tbody>\n",
              "</table>\n",
              "</div>"
            ],
            "text/plain": [
              "   index         username followings  joining_year  last_year_contributions  \\\n",
              "0      0    SumithSPrince          1        2021.0                      2.0   \n",
              "1      1      infysumanta         38        2018.0                    623.0   \n",
              "2      2  codingwithkrish          8        2021.0                    204.0   \n",
              "3      3   anirbanbose401          3        2023.0                      2.0   \n",
              "4      4    neilrehani101          3        2021.0                      6.0   \n",
              "\n",
              "   achievements_num  stars  has_readme    status             name  \\\n",
              "0                 0    0.0       False       NaN         Sumith S   \n",
              "1                 5   87.0        True  Focusing  Sumanta Kabiraj   \n",
              "2                 6    9.0        True       NaN      Krish Gupta   \n",
              "3                 0    0.0       False       NaN     ANIRBAN BOSE   \n",
              "4                 0    0.0       False       NaN      Neil Rehani   \n",
              "\n",
              "           location  repositories  followers language          sorting type  \\\n",
              "0  Bangalore, India           1.0        0.0     Java  Most recently joined   \n",
              "1    Kolkata, India         445.0        9.0     Java     Most repositories   \n",
              "2             India          37.0        6.0     Java        Most followers   \n",
              "3             India           3.0        0.0     Java  Most recently joined   \n",
              "4             India          29.0        0.0   Python      Fewest followers   \n",
              "\n",
              "       City Region  \n",
              "0  Rourkela   East  \n",
              "1    Kollam  South  \n",
              "2  Siliguri  North  \n",
              "3    Guntur  South  \n",
              "4    Guntur   East  "
            ]
          },
          "execution_count": 73,
          "metadata": {},
          "output_type": "execute_result"
        }
      ],
      "source": [
        "df.head()"
      ]
    },
    {
      "cell_type": "code",
      "execution_count": null,
      "id": "82ea9598-0da8-4bfa-8a2c-fe360e9a12a6",
      "metadata": {
        "id": "82ea9598-0da8-4bfa-8a2c-fe360e9a12a6",
        "outputId": "a5319ad3-e389-49e0-da78-91f86072164a"
      },
      "outputs": [
        {
          "data": {
            "text/html": [
              "<div>\n",
              "<style scoped>\n",
              "    .dataframe tbody tr th:only-of-type {\n",
              "        vertical-align: middle;\n",
              "    }\n",
              "\n",
              "    .dataframe tbody tr th {\n",
              "        vertical-align: top;\n",
              "    }\n",
              "\n",
              "    .dataframe thead th {\n",
              "        text-align: right;\n",
              "    }\n",
              "</style>\n",
              "<table border=\"1\" class=\"dataframe\">\n",
              "  <thead>\n",
              "    <tr style=\"text-align: right;\">\n",
              "      <th></th>\n",
              "      <th>index</th>\n",
              "      <th>username</th>\n",
              "      <th>followings</th>\n",
              "      <th>joining_year</th>\n",
              "      <th>last_year_contributions</th>\n",
              "      <th>achievements_num</th>\n",
              "      <th>stars</th>\n",
              "      <th>has_readme</th>\n",
              "      <th>status</th>\n",
              "      <th>name</th>\n",
              "      <th>location</th>\n",
              "      <th>repositories</th>\n",
              "      <th>followers</th>\n",
              "      <th>language</th>\n",
              "      <th>sorting type</th>\n",
              "      <th>City</th>\n",
              "      <th>Region</th>\n",
              "    </tr>\n",
              "  </thead>\n",
              "  <tbody>\n",
              "    <tr>\n",
              "      <th>0</th>\n",
              "      <td>0</td>\n",
              "      <td>SumithSPrince</td>\n",
              "      <td>1</td>\n",
              "      <td>2021.0</td>\n",
              "      <td>2.0</td>\n",
              "      <td>0</td>\n",
              "      <td>0.0</td>\n",
              "      <td>False</td>\n",
              "      <td>NaN</td>\n",
              "      <td>Sumith S</td>\n",
              "      <td>Bangalore, India</td>\n",
              "      <td>1.0</td>\n",
              "      <td>0.0</td>\n",
              "      <td>Java</td>\n",
              "      <td>Most recently joined</td>\n",
              "      <td>Rourkela</td>\n",
              "      <td>East</td>\n",
              "    </tr>\n",
              "    <tr>\n",
              "      <th>1</th>\n",
              "      <td>1</td>\n",
              "      <td>infysumanta</td>\n",
              "      <td>38</td>\n",
              "      <td>2018.0</td>\n",
              "      <td>623.0</td>\n",
              "      <td>5</td>\n",
              "      <td>87.0</td>\n",
              "      <td>True</td>\n",
              "      <td>Focusing</td>\n",
              "      <td>Sumanta Kabiraj</td>\n",
              "      <td>Kolkata, India</td>\n",
              "      <td>445.0</td>\n",
              "      <td>9.0</td>\n",
              "      <td>Java</td>\n",
              "      <td>Most repositories</td>\n",
              "      <td>Kollam</td>\n",
              "      <td>South</td>\n",
              "    </tr>\n",
              "    <tr>\n",
              "      <th>2</th>\n",
              "      <td>2</td>\n",
              "      <td>codingwithkrish</td>\n",
              "      <td>8</td>\n",
              "      <td>2021.0</td>\n",
              "      <td>204.0</td>\n",
              "      <td>6</td>\n",
              "      <td>9.0</td>\n",
              "      <td>True</td>\n",
              "      <td>NaN</td>\n",
              "      <td>Krish Gupta</td>\n",
              "      <td>India</td>\n",
              "      <td>37.0</td>\n",
              "      <td>6.0</td>\n",
              "      <td>Java</td>\n",
              "      <td>Most followers</td>\n",
              "      <td>Siliguri</td>\n",
              "      <td>North</td>\n",
              "    </tr>\n",
              "    <tr>\n",
              "      <th>3</th>\n",
              "      <td>3</td>\n",
              "      <td>anirbanbose401</td>\n",
              "      <td>3</td>\n",
              "      <td>2023.0</td>\n",
              "      <td>2.0</td>\n",
              "      <td>0</td>\n",
              "      <td>0.0</td>\n",
              "      <td>False</td>\n",
              "      <td>NaN</td>\n",
              "      <td>ANIRBAN BOSE</td>\n",
              "      <td>India</td>\n",
              "      <td>3.0</td>\n",
              "      <td>0.0</td>\n",
              "      <td>Java</td>\n",
              "      <td>Most recently joined</td>\n",
              "      <td>Guntur</td>\n",
              "      <td>South</td>\n",
              "    </tr>\n",
              "    <tr>\n",
              "      <th>4</th>\n",
              "      <td>4</td>\n",
              "      <td>neilrehani101</td>\n",
              "      <td>3</td>\n",
              "      <td>2021.0</td>\n",
              "      <td>6.0</td>\n",
              "      <td>0</td>\n",
              "      <td>0.0</td>\n",
              "      <td>False</td>\n",
              "      <td>NaN</td>\n",
              "      <td>Neil Rehani</td>\n",
              "      <td>India</td>\n",
              "      <td>29.0</td>\n",
              "      <td>0.0</td>\n",
              "      <td>Python</td>\n",
              "      <td>Fewest followers</td>\n",
              "      <td>Guntur</td>\n",
              "      <td>East</td>\n",
              "    </tr>\n",
              "  </tbody>\n",
              "</table>\n",
              "</div>"
            ],
            "text/plain": [
              "   index         username followings  joining_year  last_year_contributions  \\\n",
              "0      0    SumithSPrince          1        2021.0                      2.0   \n",
              "1      1      infysumanta         38        2018.0                    623.0   \n",
              "2      2  codingwithkrish          8        2021.0                    204.0   \n",
              "3      3   anirbanbose401          3        2023.0                      2.0   \n",
              "4      4    neilrehani101          3        2021.0                      6.0   \n",
              "\n",
              "   achievements_num  stars  has_readme    status             name  \\\n",
              "0                 0    0.0       False       NaN         Sumith S   \n",
              "1                 5   87.0        True  Focusing  Sumanta Kabiraj   \n",
              "2                 6    9.0        True       NaN      Krish Gupta   \n",
              "3                 0    0.0       False       NaN     ANIRBAN BOSE   \n",
              "4                 0    0.0       False       NaN      Neil Rehani   \n",
              "\n",
              "           location  repositories  followers language          sorting type  \\\n",
              "0  Bangalore, India           1.0        0.0     Java  Most recently joined   \n",
              "1    Kolkata, India         445.0        9.0     Java     Most repositories   \n",
              "2             India          37.0        6.0     Java        Most followers   \n",
              "3             India           3.0        0.0     Java  Most recently joined   \n",
              "4             India          29.0        0.0   Python      Fewest followers   \n",
              "\n",
              "       City Region  \n",
              "0  Rourkela   East  \n",
              "1    Kollam  South  \n",
              "2  Siliguri  North  \n",
              "3    Guntur  South  \n",
              "4    Guntur   East  "
            ]
          },
          "execution_count": 74,
          "metadata": {},
          "output_type": "execute_result"
        }
      ],
      "source": [
        "df.head()"
      ]
    },
    {
      "cell_type": "code",
      "execution_count": null,
      "id": "496ef0ee-ce63-44a2-8f00-92f7e03c0f66",
      "metadata": {
        "id": "496ef0ee-ce63-44a2-8f00-92f7e03c0f66",
        "outputId": "b1fe64e0-d36c-4099-e7e5-82bf9bacad1f"
      },
      "outputs": [
        {
          "data": {
            "text/plain": [
              "7"
            ]
          },
          "execution_count": 75,
          "metadata": {},
          "output_type": "execute_result"
        }
      ],
      "source": [
        "df['sorting type'].nunique()"
      ]
    },
    {
      "cell_type": "code",
      "execution_count": null,
      "id": "e3927923-9d70-4dc5-97f5-b8bd37e9e951",
      "metadata": {
        "id": "e3927923-9d70-4dc5-97f5-b8bd37e9e951",
        "outputId": "743aaa0a-5fdf-44f3-8402-c158adbcad36"
      },
      "outputs": [
        {
          "name": "stderr",
          "output_type": "stream",
          "text": [
            "C:\\Users\\priya\\AppData\\Local\\Temp\\ipykernel_25228\\3367908104.py:4: FutureWarning: \n",
            "\n",
            "Passing `palette` without assigning `hue` is deprecated and will be removed in v0.14.0. Assign the `x` variable to `hue` and set `legend=False` for the same effect.\n",
            "\n",
            "  sns.barplot(x=top_languages.index, y=top_languages.values, palette='magma')\n"
          ]
        },
        {
          "data": {
            "image/png": "[encoded data removed]",
            "text/plain": [
              "<Figure size 1000x600 with 1 Axes>"
            ]
          },
          "metadata": {},
          "output_type": "display_data"
        }
      ],
      "source": [
        "top_languages = df['language'].value_counts().head(10)\n",
        "\n",
        "plt.figure(figsize=(10, 6))\n",
        "sns.barplot(x=top_languages.index, y=top_languages.values, palette='magma')\n",
        "plt.title(\"Top Languages Used by Users\")\n",
        "plt.xlabel(\"Language\")\n",
        "plt.ylabel(\"Frequency\")\n",
        "plt.xticks(rotation=45)\n",
        "plt.show()\n"
      ]
    },
    {
      "cell_type": "code",
      "execution_count": null,
      "id": "3fcb37ef-fabc-4ddb-b4b3-22a93d76350c",
      "metadata": {
        "id": "3fcb37ef-fabc-4ddb-b4b3-22a93d76350c",
        "outputId": "4b798abd-baa1-43d8-fa1f-8b2b5665bb38"
      },
      "outputs": [
        {
          "data": {
            "image/png": "[encoded data removed]",
            "text/plain": [
              "<Figure size 1200x600 with 1 Axes>"
            ]
          },
          "metadata": {},
          "output_type": "display_data"
        },
        {
          "name": "stderr",
          "output_type": "stream",
          "text": [
            "C:\\Users\\priya\\AppData\\Local\\Temp\\ipykernel_25228\\3600873649.py:15: FutureWarning: \n",
            "\n",
            "Passing `palette` without assigning `hue` is deprecated and will be removed in v0.14.0. Assign the `x` variable to `hue` and set `legend=False` for the same effect.\n",
            "\n",
            "  sns.boxplot(x='language', y='stars', data=df, palette=\"coolwarm\")\n"
          ]
        },
        {
          "data": {
            "image/png": "[encoded data removed]",
            "text/plain": [
              "<Figure size 1000x600 with 1 Axes>"
            ]
          },
          "metadata": {},
          "output_type": "display_data"
        }
      ],
      "source": [
        "# Repositories by language\n",
        "repositories_by_language = df.groupby('language')['repositories'].sum().sort_values(ascending=False)\n",
        "\n",
        "# Visualization\n",
        "plt.figure(figsize=(12, 6))\n",
        "repositories_by_language.plot(kind='bar', color='skyblue')\n",
        "plt.title(\"Number of Repositories by Language\", fontsize=14)\n",
        "plt.xlabel(\"Programming Language\", fontsize=12)\n",
        "plt.ylabel(\"Number of Repositories\", fontsize=12)\n",
        "plt.xticks(rotation=45)\n",
        "plt.show()\n",
        "\n",
        "# Distribution of stars\n",
        "plt.figure(figsize=(10, 6))\n",
        "sns.boxplot(x='language', y='stars', data=df, palette=\"coolwarm\")\n",
        "plt.title(\"Distribution of Stars by Language\", fontsize=14)\n",
        "plt.xlabel(\"Programming Language\", fontsize=12)\n",
        "plt.ylabel(\"Stars\", fontsize=12)\n",
        "plt.xticks(rotation=45)\n",
        "plt.show()\n"
      ]
    },
    {
      "cell_type": "code",
      "execution_count": null,
      "id": "8df16299-aaa1-4014-bc2c-17f3daa93f09",
      "metadata": {
        "id": "8df16299-aaa1-4014-bc2c-17f3daa93f09",
        "outputId": "c7deb85b-65d7-444e-9958-0f79aeae5e82"
      },
      "outputs": [
        {
          "data": {
            "text/plain": [
              "<Figure size 1200x600 with 0 Axes>"
            ]
          },
          "metadata": {},
          "output_type": "display_data"
        },
        {
          "data": {
            "image/png": "[encoded data removed]",
            "text/plain": [
              "<Figure size 640x480 with 1 Axes>"
            ]
          },
          "metadata": {},
          "output_type": "display_data"
        }
      ],
      "source": [
        "\n",
        "language_trends = df.groupby(['joining_year', 'language'])['last_year_contributions'].sum().unstack().fillna(0)\n",
        "\n",
        "# Visualization\n",
        "plt.figure(figsize=(12, 6))\n",
        "language_trends.plot(kind='line', colormap=\"viridis\")\n",
        "plt.title(\"Language Trends Over Time by User Activity\", fontsize=14)\n",
        "plt.xlabel(\"Joining Year\", fontsize=12)\n",
        "plt.ylabel(\"Total Contributions\", fontsize=12)\n",
        "plt.legend(title=\"Language\", loc=\"upper left\", bbox_to_anchor=(1, 1))\n",
        "plt.show()\n"
      ]
    },
    {
      "cell_type": "code",
      "execution_count": null,
      "id": "b7ebb581-241d-47bf-857c-6743a5e48518",
      "metadata": {
        "id": "b7ebb581-241d-47bf-857c-6743a5e48518",
        "outputId": "f39e52ee-5f93-407f-a7ad-e392758c1520"
      },
      "outputs": [
        {
          "data": {
            "image/png": "[encoded data removed]",
            "text/plain": [
              "<Figure size 1000x600 with 1 Axes>"
            ]
          },
          "metadata": {},
          "output_type": "display_data"
        }
      ],
      "source": [
        "plt.figure(figsize=(10, 6))\n",
        "sns.histplot(df['joining_year'], bins=20, kde=True, color='skyblue')\n",
        "plt.title(\"Distribution of Joining Year\")\n",
        "plt.xlabel(\"Joining Year\")\n",
        "plt.ylabel(\"Count\")\n",
        "plt.show()"
      ]
    },
    {
      "cell_type": "code",
      "execution_count": null,
      "id": "5317e667-38a5-494c-87b3-cfb071eba523",
      "metadata": {
        "id": "5317e667-38a5-494c-87b3-cfb071eba523",
        "outputId": "ca3bc2c8-7728-457e-8402-839f84753342"
      },
      "outputs": [
        {
          "data": {
            "text/html": [
              "<div>\n",
              "<style scoped>\n",
              "    .dataframe tbody tr th:only-of-type {\n",
              "        vertical-align: middle;\n",
              "    }\n",
              "\n",
              "    .dataframe tbody tr th {\n",
              "        vertical-align: top;\n",
              "    }\n",
              "\n",
              "    .dataframe thead th {\n",
              "        text-align: right;\n",
              "    }\n",
              "</style>\n",
              "<table border=\"1\" class=\"dataframe\">\n",
              "  <thead>\n",
              "    <tr style=\"text-align: right;\">\n",
              "      <th></th>\n",
              "      <th>index</th>\n",
              "      <th>username</th>\n",
              "      <th>followings</th>\n",
              "      <th>joining_year</th>\n",
              "      <th>last_year_contributions</th>\n",
              "      <th>achievements_num</th>\n",
              "      <th>stars</th>\n",
              "      <th>has_readme</th>\n",
              "      <th>status</th>\n",
              "      <th>name</th>\n",
              "      <th>location</th>\n",
              "      <th>repositories</th>\n",
              "      <th>followers</th>\n",
              "      <th>language</th>\n",
              "      <th>sorting type</th>\n",
              "      <th>City</th>\n",
              "      <th>Region</th>\n",
              "    </tr>\n",
              "  </thead>\n",
              "  <tbody>\n",
              "    <tr>\n",
              "      <th>0</th>\n",
              "      <td>0</td>\n",
              "      <td>SumithSPrince</td>\n",
              "      <td>1.0</td>\n",
              "      <td>2021.0</td>\n",
              "      <td>2.0</td>\n",
              "      <td>0</td>\n",
              "      <td>0.0</td>\n",
              "      <td>False</td>\n",
              "      <td>NaN</td>\n",
              "      <td>Sumith S</td>\n",
              "      <td>Bangalore, India</td>\n",
              "      <td>1.0</td>\n",
              "      <td>0.0</td>\n",
              "      <td>Java</td>\n",
              "      <td>Most recently joined</td>\n",
              "      <td>Rourkela</td>\n",
              "      <td>East</td>\n",
              "    </tr>\n",
              "    <tr>\n",
              "      <th>1</th>\n",
              "      <td>1</td>\n",
              "      <td>infysumanta</td>\n",
              "      <td>38.0</td>\n",
              "      <td>2018.0</td>\n",
              "      <td>623.0</td>\n",
              "      <td>5</td>\n",
              "      <td>87.0</td>\n",
              "      <td>True</td>\n",
              "      <td>Focusing</td>\n",
              "      <td>Sumanta Kabiraj</td>\n",
              "      <td>Kolkata, India</td>\n",
              "      <td>445.0</td>\n",
              "      <td>9.0</td>\n",
              "      <td>Java</td>\n",
              "      <td>Most repositories</td>\n",
              "      <td>Kollam</td>\n",
              "      <td>South</td>\n",
              "    </tr>\n",
              "    <tr>\n",
              "      <th>2</th>\n",
              "      <td>2</td>\n",
              "      <td>codingwithkrish</td>\n",
              "      <td>8.0</td>\n",
              "      <td>2021.0</td>\n",
              "      <td>204.0</td>\n",
              "      <td>6</td>\n",
              "      <td>9.0</td>\n",
              "      <td>True</td>\n",
              "      <td>NaN</td>\n",
              "      <td>Krish Gupta</td>\n",
              "      <td>India</td>\n",
              "      <td>37.0</td>\n",
              "      <td>6.0</td>\n",
              "      <td>Java</td>\n",
              "      <td>Most followers</td>\n",
              "      <td>Siliguri</td>\n",
              "      <td>North</td>\n",
              "    </tr>\n",
              "    <tr>\n",
              "      <th>3</th>\n",
              "      <td>3</td>\n",
              "      <td>anirbanbose401</td>\n",
              "      <td>3.0</td>\n",
              "      <td>2023.0</td>\n",
              "      <td>2.0</td>\n",
              "      <td>0</td>\n",
              "      <td>0.0</td>\n",
              "      <td>False</td>\n",
              "      <td>NaN</td>\n",
              "      <td>ANIRBAN BOSE</td>\n",
              "      <td>India</td>\n",
              "      <td>3.0</td>\n",
              "      <td>0.0</td>\n",
              "      <td>Java</td>\n",
              "      <td>Most recently joined</td>\n",
              "      <td>Guntur</td>\n",
              "      <td>South</td>\n",
              "    </tr>\n",
              "    <tr>\n",
              "      <th>4</th>\n",
              "      <td>4</td>\n",
              "      <td>neilrehani101</td>\n",
              "      <td>3.0</td>\n",
              "      <td>2021.0</td>\n",
              "      <td>6.0</td>\n",
              "      <td>0</td>\n",
              "      <td>0.0</td>\n",
              "      <td>False</td>\n",
              "      <td>NaN</td>\n",
              "      <td>Neil Rehani</td>\n",
              "      <td>India</td>\n",
              "      <td>29.0</td>\n",
              "      <td>0.0</td>\n",
              "      <td>Python</td>\n",
              "      <td>Fewest followers</td>\n",
              "      <td>Guntur</td>\n",
              "      <td>East</td>\n",
              "    </tr>\n",
              "  </tbody>\n",
              "</table>\n",
              "</div>"
            ],
            "text/plain": [
              "   index         username  followings  joining_year  last_year_contributions  \\\n",
              "0      0    SumithSPrince         1.0        2021.0                      2.0   \n",
              "1      1      infysumanta        38.0        2018.0                    623.0   \n",
              "2      2  codingwithkrish         8.0        2021.0                    204.0   \n",
              "3      3   anirbanbose401         3.0        2023.0                      2.0   \n",
              "4      4    neilrehani101         3.0        2021.0                      6.0   \n",
              "\n",
              "   achievements_num  stars  has_readme    status             name  \\\n",
              "0                 0    0.0       False       NaN         Sumith S   \n",
              "1                 5   87.0        True  Focusing  Sumanta Kabiraj   \n",
              "2                 6    9.0        True       NaN      Krish Gupta   \n",
              "3                 0    0.0       False       NaN     ANIRBAN BOSE   \n",
              "4                 0    0.0       False       NaN      Neil Rehani   \n",
              "\n",
              "           location  repositories  followers language          sorting type  \\\n",
              "0  Bangalore, India           1.0        0.0     Java  Most recently joined   \n",
              "1    Kolkata, India         445.0        9.0     Java     Most repositories   \n",
              "2             India          37.0        6.0     Java        Most followers   \n",
              "3             India           3.0        0.0     Java  Most recently joined   \n",
              "4             India          29.0        0.0   Python      Fewest followers   \n",
              "\n",
              "       City Region  \n",
              "0  Rourkela   East  \n",
              "1    Kollam  South  \n",
              "2  Siliguri  North  \n",
              "3    Guntur  South  \n",
              "4    Guntur   East  "
            ]
          },
          "execution_count": 86,
          "metadata": {},
          "output_type": "execute_result"
        }
      ],
      "source": [
        "df.head()"
      ]
    },
    {
      "cell_type": "code",
      "execution_count": null,
      "id": "fa9ab344-ea56-4993-97ad-6f70cce3bae2",
      "metadata": {
        "id": "fa9ab344-ea56-4993-97ad-6f70cce3bae2",
        "outputId": "79aa419c-37d1-4a19-e222-0a22d0a26df6"
      },
      "outputs": [
        {
          "data": {
            "text/plain": [
              "array(['Most recently joined', 'Most repositories', 'Most followers',\n",
              "       'Fewest followers', 'Best match', 'Fewest repositories',\n",
              "       'Least recently joined'], dtype=object)"
            ]
          },
          "execution_count": 87,
          "metadata": {},
          "output_type": "execute_result"
        }
      ],
      "source": [
        "df['sorting type'].unique()"
      ]
    },
    {
      "cell_type": "code",
      "execution_count": null,
      "id": "17e6984f-b4d4-41a9-a37e-6d0de04f0081",
      "metadata": {
        "id": "17e6984f-b4d4-41a9-a37e-6d0de04f0081",
        "outputId": "ed0b4809-846e-4a66-ea30-200f8dc82482"
      },
      "outputs": [
        {
          "name": "stderr",
          "output_type": "stream",
          "text": [
            "C:\\Users\\priya\\AppData\\Local\\Temp\\ipykernel_25228\\3893293661.py:7: FutureWarning: \n",
            "\n",
            "Passing `palette` without assigning `hue` is deprecated and will be removed in v0.14.0. Assign the `x` variable to `hue` and set `legend=False` for the same effect.\n",
            "\n",
            "  sns.countplot(x='joining_year', data=most_recently_joined, palette=\"viridis\")\n"
          ]
        },
        {
          "data": {
            "image/png": "[encoded data removed]",
            "text/plain": [
              "<Figure size 1000x600 with 1 Axes>"
            ]
          },
          "metadata": {},
          "output_type": "display_data"
        }
      ],
      "source": [
        "# Filtering users who joined most recently\n",
        "most_recently_joined = df[df['sorting type'] == 'Most recently joined']\n",
        "most_recently_joined = most_recently_joined.sort_values(by='joining_year', ascending=False)\n",
        "\n",
        "# Plotting the most recently joined users\n",
        "plt.figure(figsize=(10, 6))\n",
        "sns.countplot(x='joining_year', data=most_recently_joined, palette=\"viridis\")\n",
        "plt.title(\"Most Recently Joined Users by Year\", fontsize=14)\n",
        "plt.xlabel(\"Joining Year\", fontsize=12)\n",
        "plt.ylabel(\"Number of Users\", fontsize=12)\n",
        "plt.xticks(rotation=45)\n",
        "plt.show()\n"
      ]
    },
    {
      "cell_type": "code",
      "execution_count": null,
      "id": "b98be5b4-46f3-4895-a362-556e06cbf105",
      "metadata": {
        "id": "b98be5b4-46f3-4895-a362-556e06cbf105",
        "outputId": "70a3aaef-ccd1-4bc4-a6e7-1a37afb0cee0"
      },
      "outputs": [
        {
          "name": "stderr",
          "output_type": "stream",
          "text": [
            "C:\\Users\\priya\\AppData\\Local\\Temp\\ipykernel_25228\\1546303269.py:7: FutureWarning: \n",
            "\n",
            "Passing `palette` without assigning `hue` is deprecated and will be removed in v0.14.0. Assign the `y` variable to `hue` and set `legend=False` for the same effect.\n",
            "\n",
            "  sns.barplot(x='repositories', y='name', data=most_repositories, palette=\"Blues_d\")\n"
          ]
        },
        {
          "data": {
            "image/png": "[encoded data removed]",
            "text/plain": [
              "<Figure size 1000x600 with 1 Axes>"
            ]
          },
          "metadata": {},
          "output_type": "display_data"
        }
      ],
      "source": [
        "# Filtering users with the most repositories\n",
        "most_repositories = df[df['sorting type'] == 'Most repositories']\n",
        "most_repositories = most_repositories.sort_values(by='repositories', ascending=False).head(10)\n",
        "\n",
        "# Plotting the top 10 users with the most repositories\n",
        "plt.figure(figsize=(10, 6))\n",
        "sns.barplot(x='repositories', y='name', data=most_repositories, palette=\"Blues_d\")\n",
        "plt.title(\"Top 10 Users with Most Repositories\", fontsize=14)\n",
        "plt.xlabel(\"Number of Repositories\", fontsize=12)\n",
        "plt.ylabel(\"User Name\", fontsize=12)\n",
        "plt.show()\n"
      ]
    },
    {
      "cell_type": "code",
      "execution_count": null,
      "id": "788b9107-f94a-4f3d-8b72-484c6e569eac",
      "metadata": {
        "id": "788b9107-f94a-4f3d-8b72-484c6e569eac"
      },
      "outputs": [],
      "source": [
        "del df['status']"
      ]
    },
    {
      "cell_type": "code",
      "execution_count": null,
      "id": "18a0d25b-e0a8-4b6a-a02b-ff97de78ad4f",
      "metadata": {
        "id": "18a0d25b-e0a8-4b6a-a02b-ff97de78ad4f",
        "outputId": "7aabc12d-beab-4a8b-8b72-d33e6062eb65"
      },
      "outputs": [
        {
          "name": "stdout",
          "output_type": "stream",
          "text": [
            "Missing values in each column:\n",
            "index                      0\n",
            "username                   0\n",
            "followings                 0\n",
            "joining_year               0\n",
            "last_year_contributions    0\n",
            "achievements_num           0\n",
            "stars                      0\n",
            "has_readme                 0\n",
            "name                       0\n",
            "location                   0\n",
            "repositories               0\n",
            "followers                  0\n",
            "language                   0\n",
            "sorting type               0\n",
            "City                       0\n",
            "Region                     0\n",
            "best_match_score           0\n",
            "dtype: int64\n"
          ]
        }
      ],
      "source": [
        "print(\"Missing values in each column:\")\n",
        "print(df.isnull().sum())"
      ]
    }
  ],
  "metadata": {
    "kernelspec": {
      "display_name": "Python 3 (ipykernel)",
      "language": "python",
      "name": "python3"
    },
    "language_info": {
      "codemirror_mode": {
        "name": "ipython",
        "version": 3
      },
      "file_extension": ".py",
      "mimetype": "text/x-python",
      "name": "python",
      "nbconvert_exporter": "python",
      "pygments_lexer": "ipython3",
      "version": "3.12.4"
    },
    "colab": {
      "provenance": []
    }
  },
  "nbformat": 4,
  "nbformat_minor": 5
}